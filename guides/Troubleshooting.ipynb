{
 "cells": [
  {
   "cell_type": "markdown",
   "id": "91690e50-4542-4760-a9bd-24550d70f28f",
   "metadata": {},
   "source": [
    "# Omniverse Remote Desktop Troubleshooting Guide"
   ]
  },
  {
   "cell_type": "markdown",
   "id": "2400a5ca-b27f-4d0d-94a4-629ec9efe169",
   "metadata": {},
   "source": [
    "This guide presents solutions to common issues you may face while using the Omniverse remote desktop."
   ]
  },
  {
   "cell_type": "markdown",
   "id": "ffd14c1a-9335-42c7-a1e6-0b1235c3fd21",
   "metadata": {},
   "source": [
    "## Install the Latest Chrome"
   ]
  },
  {
   "cell_type": "markdown",
   "id": "d7341310-463f-4a9a-8000-c36cffe0e2d9",
   "metadata": {},
   "source": [
    "As a first step, if you are having any issues, please [download and use the latest version of Chrome](https://www.google.com/chrome/)."
   ]
  },
  {
   "cell_type": "markdown",
   "id": "ed2e833c-ff5e-4669-977f-a7566e26453f",
   "metadata": {},
   "source": [
    "## Common Issues"
   ]
  },
  {
   "cell_type": "markdown",
   "id": "851b36fc-3fb3-47e2-8ffc-fc9b90d58490",
   "metadata": {},
   "source": [
    "This document covers the following issues. Be sure you are using [the latest version of Chrome](https://www.google.com/chrome/)."
   ]
  },
  {
   "cell_type": "markdown",
   "id": "c4017a0d-bf38-4094-8504-b7fae3b10d2d",
   "metadata": {},
   "source": [
    "- [The desktop is not responding to my clicks, it appears frozen](#The-desktop-is-not-responding-to-my-clicks,-it-appears-frozen).\n",
    "- [The desktop is the wrong size for my screen](#The-desktop-is-the-wrong-size-for-my-screen).\n",
    "- [The desktop is slow to respond or laggy](#The-desktop-is-slow-to-respond-or-laggy).\n",
    "- [I can't copy/paste](#I-can't-copy/paste).\n",
    "- [My ALT or OPTION key is not working](#My-ALT-or-OPTION-key-is-not-working)."
   ]
  },
  {
   "cell_type": "markdown",
   "id": "0617c908-6417-4459-8162-8486dfb07887",
   "metadata": {},
   "source": [
    "<a id=\"The-desktop-is-not-responding-to-my-clicks,-it-appears-frozen\"></a>\n",
    "## The desktop is not responding to my clicks, it appears frozen"
   ]
  },
  {
   "cell_type": "markdown",
   "id": "d25bbd52-a6d5-403d-9999-33d43052ab34",
   "metadata": {},
   "source": [
    "**Fix: refresh the page.** If the remote desktop is not responding to your clicks and/or appears frozen, refresh the browser tab. On occasion you may have to refresh it a second time.\n",
    "\n",
    "If, after waiting a minute and then refreshing the browser at least 3 times, you find that your desktop is a black screen that will not do anything else, it is likely you will need to reboot the coding environment. Please get an instructor or TA to assist you."
   ]
  },
  {
   "cell_type": "markdown",
   "id": "01ddff64-86ad-4ff2-b9c8-7535bca332ed",
   "metadata": {},
   "source": [
    "<a id=\"The-desktop-is-the-wrong-size-for-my-screen\"></a>\n",
    "## The desktop is the wrong size for my screen"
   ]
  },
  {
   "cell_type": "markdown",
   "id": "0692c0b5-9cf4-4589-9c21-914f138d098f",
   "metadata": {},
   "source": [
    "**Fix: set the \"Resize remote to fit window\" setting to \"true\".**"
   ]
  },
  {
   "cell_type": "markdown",
   "id": "077779e3-ad58-45d0-812f-16e23e58e3c6",
   "metadata": {},
   "source": [
    "Depending on the size of your browser window, the desktop may not fit well into your browser window. It may be the desktop is too small for your browser window and there is akward black padding, or that it is too big and you cannot see some of the desktop, like the application tray at the bottom.\n",
    "\n",
    "To fix this, click the semi-circle on the right-hand side of the remote desktop to open a setting panel. Scroll down the panel and click on the \"Resize remote to fit window\" option. This will cause the desktop browser tab to refresh. After it reloads it should fit your screen correctly."
   ]
  },
  {
   "cell_type": "markdown",
   "id": "0d387d2b-46ba-4f98-afbd-5d24a67a76a1",
   "metadata": {},
   "source": [
    "![resize](images/3-resize.png)"
   ]
  },
  {
   "cell_type": "markdown",
   "id": "82f60a40-f328-4b07-8c17-e5840a18b5e3",
   "metadata": {},
   "source": [
    "<a id=\"The-desktop-is-slow-to-respond-or-laggy\"></a>\n",
    "## The desktop is slow to respond or laggy"
   ]
  },
  {
   "cell_type": "markdown",
   "id": "46bb8d8a-99a3-41fe-ba70-5e369f8fb255",
   "metadata": {},
   "source": [
    "**Fix 1: Reduce the Video Bit Rate**. (Be sure to see the other fixes below)."
   ]
  },
  {
   "cell_type": "markdown",
   "id": "e4cb805b-62b9-4a6a-b3db-94ac069c87ca",
   "metadata": {},
   "source": [
    "If you open the side settings panel you can select and reduce the \"Video bit rate\". Doing so will reduce the quality of the images in the remote desktop environment, but will be less taxing on your network. You can likely reduce this to a setting where the desktop still looks very nice, but with improved responsiveness."
   ]
  },
  {
   "cell_type": "markdown",
   "id": "397617c7-0fd4-47be-918c-4ef616195e05",
   "metadata": {},
   "source": [
    "![videobitrage](images/videobitrate.png)"
   ]
  },
  {
   "cell_type": "markdown",
   "id": "50ace90d-bd75-4e79-aa38-77b741f05f09",
   "metadata": {},
   "source": [
    "**Fix 2: reduce the size of your application's viewport**."
   ]
  },
  {
   "cell_type": "markdown",
   "id": "ecb6a312-bab3-4a92-a080-1f77575529d8",
   "metadata": {},
   "source": [
    "In particular for for Omniverse applications with a lot of graphics intensive work being done, you might find that reducing the size of the viewport where all the rendered objects are presented, greatly improves the overall performance of your remote desktop environment."
   ]
  },
  {
   "cell_type": "markdown",
   "id": "71a09a55-5816-4ea2-affa-557a90b58329",
   "metadata": {},
   "source": [
    "**Fix 3: \"Fix\" the cursor.**"
   ]
  },
  {
   "cell_type": "markdown",
   "id": "ad356542-68c3-4ad5-a1e1-0d3564bd3185",
   "metadata": {},
   "source": [
    "By default, your mouse cursor can move freely in and out of the remote desktop. We have found that performance can be much improved by \"fixing the cursor\" inside the remote desktop, which can be accomplished by doing `CTRL+SHIFT+LEFT MOUSE CLICK` while inside the remote browser. When you do this, you may notice that your cursor changes slightly. You will also see a message indicating that you can press `esc` to unlock the cursor.\n",
    "\n",
    "Please note, if you leave the remote desktop environment you will have to \"Fix\" the cursor again when re-entering it."
   ]
  },
  {
   "cell_type": "markdown",
   "id": "9df9e015-9183-4689-830b-715ef4c1683a",
   "metadata": {},
   "source": [
    "![fix](images/4-fix.png)"
   ]
  },
  {
   "cell_type": "markdown",
   "id": "63b318b9-ea7b-47a6-baf6-8da51eda21b1",
   "metadata": {},
   "source": [
    "<a id=\"I-cant-copy-paste\"></a>\n",
    "## I can't copy/paste"
   ]
  },
  {
   "cell_type": "markdown",
   "id": "d82609a5-680c-41f6-a6de-4fd4977d401e",
   "metadata": {},
   "source": [
    "You should be able to copy/paste in between applications in the remote desktop, but not in and out of the desktop from your computer's larger environment. However, the key-bindings inside the remote desktop may not be what you expect. When you want to copy/paste, try selecting the \"Edit\" menu of application you are using and use it to copy/paste, or, observe there what the application says the keyboard shortcut is to perform the copy/paste, and use it."
   ]
  },
  {
   "cell_type": "markdown",
   "id": "8837bcc6-29b0-426d-ac60-17e8e377178d",
   "metadata": {},
   "source": [
    "<a id=\"My-ALT-or-OPTION-key-is-not-working\"></a>\n",
    "## My ALT or OPTION key is not working"
   ]
  },
  {
   "cell_type": "markdown",
   "id": "2ef1898b-1e0b-4594-89b0-cc2388021c70",
   "metadata": {},
   "source": [
    "**Fix: use the right ALT or OPTION key.**\n",
    "\n",
    "Unfortunately, you may find that your LEFT ALT or OPTION key does not work as expected. You should be able to use the RIGHT one instead."
   ]
  }
 ],
 "metadata": {
  "kernelspec": {
   "display_name": "Python 3 (ipykernel)",
   "language": "python",
   "name": "python3"
  },
  "language_info": {
   "codemirror_mode": {
    "name": "ipython",
    "version": 3
   },
   "file_extension": ".py",
   "mimetype": "text/x-python",
   "name": "python",
   "nbconvert_exporter": "python",
   "pygments_lexer": "ipython3",
   "version": "3.10.9"
  }
 },
 "nbformat": 4,
 "nbformat_minor": 5
}
