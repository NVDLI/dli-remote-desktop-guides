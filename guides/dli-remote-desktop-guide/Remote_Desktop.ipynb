{
 "cells": [
  {
   "cell_type": "markdown",
   "id": "0c5acaf0",
   "metadata": {},
   "source": [
    "# Omniverse Remote Desktop Guide"
   ]
  },
  {
   "cell_type": "markdown",
   "id": "4c458ce1-bbbc-4634-a8e7-25477a676871",
   "metadata": {},
   "source": [
    "This guide offers steps for running Omniverse applications in the DLI-provided remote desktop environment.\n",
    "\n",
    "Please see _Omniverse Remote Desktop Troubleshooting Guide_ for troubleshooting common issues."
   ]
  },
  {
   "cell_type": "markdown",
   "id": "9ff5e0d8-dd69-4cf9-806a-670acb5210f5",
   "metadata": {},
   "source": [
    "## Start the Desktop"
   ]
  },
  {
   "cell_type": "markdown",
   "id": "ea1d8312-5aca-470e-89c5-8de30908794e",
   "metadata": {},
   "source": [
    "After some initial page loading you should see the following \"START\" button, click it:"
   ]
  },
  {
   "cell_type": "markdown",
   "id": "4aa05d7c-9b7e-4ec0-98f9-5d333332f1ff",
   "metadata": {},
   "source": [
    "![start](images/1-start.png)"
   ]
  },
  {
   "cell_type": "markdown",
   "id": "0cc8ce4e-850b-4300-a362-6f84313756f8",
   "metadata": {},
   "source": [
    "After clicking \"START\" you will see the remote desktop:"
   ]
  },
  {
   "cell_type": "markdown",
   "id": "eba2c223-7c18-4f4c-b39a-4aab01d24171",
   "metadata": {},
   "source": [
    "![desktop](images/2-desktop.png)"
   ]
  },
  {
   "cell_type": "markdown",
   "id": "08e7c4d0-0d72-4b76-9f82-b8dee633d76d",
   "metadata": {},
   "source": [
    "## Resize the Desktop (if necessary)"
   ]
  },
  {
   "cell_type": "markdown",
   "id": "ccc50033-a805-4ea9-a7fc-8a3d969b2437",
   "metadata": {},
   "source": [
    "Depending on the size of your browser window, the desktop may not fit well into your browser window. An example of this is shown in the image directly above. To fix this, click the semi-circle on the right-hand side of the remote desktop to open a setting panel. Scroll down the panel and click on the \"Resize remote to fit window\" option:"
   ]
  },
  {
   "cell_type": "markdown",
   "id": "5e0e30f8-1569-49e8-a6e3-9e578f793335",
   "metadata": {},
   "source": [
    "![resize](images/3-resize.png)"
   ]
  },
  {
   "cell_type": "markdown",
   "id": "3da7f48a-e8cb-4ee7-93b9-320875f3d082",
   "metadata": {},
   "source": [
    "## Launch OV Launcher"
   ]
  },
  {
   "cell_type": "markdown",
   "id": "aeb43e14-f79a-47c8-b0cd-e7b3acb4bd6d",
   "metadata": {},
   "source": [
    "Double click on \"Omniverse Launcher\" on the remote desktop to launch OV Launcher."
   ]
  },
  {
   "cell_type": "markdown",
   "id": "e54e15da-340d-4c1b-b3d5-554c1e1e9fff",
   "metadata": {},
   "source": [
    "![launch](images/5-launch.png)"
   ]
  },
  {
   "cell_type": "markdown",
   "id": "6c23ee2b-22f5-457c-8918-3f529261c45b",
   "metadata": {},
   "source": [
    "## Launch Omniverse Application"
   ]
  },
  {
   "cell_type": "markdown",
   "id": "af66c1ff-6f83-4b09-a4a7-779af600096b",
   "metadata": {},
   "source": [
    "When Omniverse Launcher starts, click the \"LIBRARY\" button:"
   ]
  },
  {
   "cell_type": "markdown",
   "id": "32b93b4f-8d9b-4356-9f4e-702ac792c1ff",
   "metadata": {},
   "source": [
    "![lib](images/6-lib.png)"
   ]
  },
  {
   "cell_type": "markdown",
   "id": "b99d13b1-98c0-44a7-8616-b71f7014c3ad",
   "metadata": {},
   "source": [
    "In the following screen that appears, click the Omniverse application you are using in your workshop, e.g., \"Create\", on the left-hand side, and then the \"LAUNCH\" button:"
   ]
  },
  {
   "cell_type": "markdown",
   "id": "b5fabdf6-9273-4e79-8698-782d0ae3b333",
   "metadata": {},
   "source": [
    "![create](images/7-create.png)"
   ]
  },
  {
   "cell_type": "markdown",
   "id": "628f619f-690a-4cf4-a5a7-bca8cc46f9a8",
   "metadata": {},
   "source": [
    "After a few seconds, the application you selected will open:"
   ]
  },
  {
   "cell_type": "markdown",
   "id": "a3ba998c-a3ed-4db9-9b47-7913d1d10f6e",
   "metadata": {},
   "source": [
    "![stage](images/8-stage.png)"
   ]
  }
 ],
 "metadata": {
  "kernelspec": {
   "display_name": "Python 3 (ipykernel)",
   "language": "python",
   "name": "python3"
  },
  "language_info": {
   "codemirror_mode": {
    "name": "ipython",
    "version": 3
   },
   "file_extension": ".py",
   "mimetype": "text/x-python",
   "name": "python",
   "nbconvert_exporter": "python",
   "pygments_lexer": "ipython3",
   "version": "3.8.16"
  }
 },
 "nbformat": 4,
 "nbformat_minor": 5
}
